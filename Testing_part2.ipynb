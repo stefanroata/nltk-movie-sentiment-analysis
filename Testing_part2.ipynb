{
 "cells": [
  {
   "cell_type": "code",
   "execution_count": 2,
   "metadata": {},
   "outputs": [],
   "source": [
    "from sklearn.metrics import plot_roc_curve\n",
    "import nltk\n",
    "from nltk.corpus import movie_reviews, stopwords \n",
    "from nltk.tokenize import word_tokenize\n",
    "from nltk.metrics import ConfusionMatrix\n",
    "from sklearn.metrics import confusion_matrix\n",
    "import string\n",
    "import nltk.stem  as stem\n",
    "import pandas as pd\n",
    "import numpy as np"
   ]
  },
  {
   "cell_type": "code",
   "execution_count": 3,
   "metadata": {},
   "outputs": [],
   "source": [
    "documents = []\n",
    "\n",
    "for category in movie_reviews.categories():\n",
    "    for file_id in movie_reviews.fileids(category):\n",
    "        documents.append((movie_reviews.words(file_id), category))"
   ]
  },
  {
   "cell_type": "code",
   "execution_count": 4,
   "metadata": {},
   "outputs": [],
   "source": [
    "def remove_stop_words_and_stem(review):\n",
    "    # initialize stopwords list\n",
    "    stopWords = set(stopwords.words(\"english\"))\n",
    "    # initialize stemmer\n",
    "    wordnet_lemmatizer = stem.WordNetLemmatizer()\n",
    "    # remove punctuation\n",
    "    no_punctuation = [word.lower() for word in review if word not in string.punctuation]\n",
    "    # remove stop words\n",
    "    no_stop_words = [word for word in no_punctuation if word not in stopWords]\n",
    "    # stem words\n",
    "    stemmed = [wordnet_lemmatizer.lemmatize(word) for word in no_stop_words]\n",
    "    # remove words less than 3 characters long\n",
    "    final = [word for word in stemmed if len(word)>2]\n",
    "    return \" \".join(f for f in final)\n"
   ]
  },
  {
   "cell_type": "code",
   "execution_count": 5,
   "metadata": {},
   "outputs": [],
   "source": [
    "texts = []\n",
    "labels = []\n",
    "for pair in documents:\n",
    "    document = list(pair[0])\n",
    "    new = remove_stop_words_and_stem(document)\n",
    "    texts.append(new)\n",
    "    labels.append(pair[1])\n",
    "labels = np.array(labels)"
   ]
  },
  {
   "cell_type": "code",
   "execution_count": 6,
   "metadata": {},
   "outputs": [
    {
     "data": {
      "text/plain": [
       "MultinomialNB()"
      ]
     },
     "execution_count": 6,
     "metadata": {},
     "output_type": "execute_result"
    }
   ],
   "source": [
    "from sklearn.naive_bayes import MultinomialNB\n",
    "from sklearn.feature_extraction.text import TfidfVectorizer\n",
    "import numpy as np\n",
    "\n",
    "vectorizer = TfidfVectorizer()\n",
    "X_train = vectorizer.fit_transform(texts)\n",
    "Y_train = labels\n",
    "multinomial_nb = MultinomialNB()\n",
    "multinomial_nb.fit(X_train, Y_train)\n"
   ]
  },
  {
   "cell_type": "code",
   "execution_count": 7,
   "metadata": {},
   "outputs": [
    {
     "name": "stdout",
     "output_type": "stream",
     "text": [
      "0.9595\n"
     ]
    }
   ],
   "source": [
    "print(multinomial_nb.score(X_train, Y_train))"
   ]
  },
  {
   "cell_type": "code",
   "execution_count": 8,
   "metadata": {},
   "outputs": [],
   "source": [
    "def predict_sentiment_NB(text):\n",
    "    tokens = word_tokenize(text)\n",
    "    processed = remove_stop_words_and_stem(tokens)\n",
    "    vectorized_data = vectorizer.transform([processed])\n",
    "    return multinomial_nb.predict(vectorized_data)[0]"
   ]
  },
  {
   "cell_type": "code",
   "execution_count": 9,
   "metadata": {},
   "outputs": [
    {
     "data": {
      "text/plain": [
       "'pos'"
      ]
     },
     "execution_count": 9,
     "metadata": {},
     "output_type": "execute_result"
    }
   ],
   "source": [
    "predict_sentiment_NB(\"Such a great movie\")"
   ]
  },
  {
   "cell_type": "code",
   "execution_count": 10,
   "metadata": {},
   "outputs": [],
   "source": [
    "import glob\n",
    "\n",
    "def load_reviews (dirname):\n",
    "    negative_path = dirname + '/neg/*.txt'\n",
    "    negative_file_list = glob.glob(negative_path)\n",
    "    kind = [\"neg\"] * len(negative_file_list)\n",
    "    texts = [str(open(file).read()) for file in negative_file_list]\n",
    "    positive_path = dirname + '/pos/*.txt'\n",
    "    positive_file_list = glob.glob(positive_path)\n",
    "    kind2 = [\"pos\"] * len(positive_file_list)\n",
    "    kind.extend(kind2)\n",
    "    text2 = [str(open(file).read()) for file in positive_file_list]\n",
    "    texts.extend(text2)\n",
    "    filename = negative_file_list + positive_file_list\n",
    "    filename = [x.split(\"/\")[-1:][0] for x in filename]\n",
    "    df = pd.DataFrame(list(zip(filename,kind,texts)), columns = ['filename', 'kind', 'text'])\n",
    "    return df"
   ]
  },
  {
   "cell_type": "code",
   "execution_count": 11,
   "metadata": {},
   "outputs": [],
   "source": [
    "import os\n",
    "\n",
    "dataset = load_reviews((str(os.getcwd()) + '/small/test'))"
   ]
  },
  {
   "cell_type": "code",
   "execution_count": 12,
   "metadata": {},
   "outputs": [
    {
     "data": {
      "text/html": [
       "<div>\n",
       "<style scoped>\n",
       "    .dataframe tbody tr th:only-of-type {\n",
       "        vertical-align: middle;\n",
       "    }\n",
       "\n",
       "    .dataframe tbody tr th {\n",
       "        vertical-align: top;\n",
       "    }\n",
       "\n",
       "    .dataframe thead th {\n",
       "        text-align: right;\n",
       "    }\n",
       "</style>\n",
       "<table border=\"1\" class=\"dataframe\">\n",
       "  <thead>\n",
       "    <tr style=\"text-align: right;\">\n",
       "      <th></th>\n",
       "      <th>filename</th>\n",
       "      <th>kind</th>\n",
       "      <th>text</th>\n",
       "    </tr>\n",
       "  </thead>\n",
       "  <tbody>\n",
       "    <tr>\n",
       "      <th>0</th>\n",
       "      <td>472_4.txt</td>\n",
       "      <td>neg</td>\n",
       "      <td>Man with the Screaming Brain is a story of gre...</td>\n",
       "    </tr>\n",
       "    <tr>\n",
       "      <th>1</th>\n",
       "      <td>492_1.txt</td>\n",
       "      <td>neg</td>\n",
       "      <td>Well........how and where do I start to descri...</td>\n",
       "    </tr>\n",
       "    <tr>\n",
       "      <th>2</th>\n",
       "      <td>218_3.txt</td>\n",
       "      <td>neg</td>\n",
       "      <td>Unbelievably disappointed. The pace was slow. ...</td>\n",
       "    </tr>\n",
       "    <tr>\n",
       "      <th>3</th>\n",
       "      <td>307_1.txt</td>\n",
       "      <td>neg</td>\n",
       "      <td>I checked this out at the Vancouver Internatio...</td>\n",
       "    </tr>\n",
       "    <tr>\n",
       "      <th>4</th>\n",
       "      <td>342_1.txt</td>\n",
       "      <td>neg</td>\n",
       "      <td>I was excited about this movie after reading o...</td>\n",
       "    </tr>\n",
       "    <tr>\n",
       "      <th>...</th>\n",
       "      <td>...</td>\n",
       "      <td>...</td>\n",
       "      <td>...</td>\n",
       "    </tr>\n",
       "    <tr>\n",
       "      <th>995</th>\n",
       "      <td>480_10.txt</td>\n",
       "      <td>pos</td>\n",
       "      <td>If you're tired by the same repetitive, uninte...</td>\n",
       "    </tr>\n",
       "    <tr>\n",
       "      <th>996</th>\n",
       "      <td>122_8.txt</td>\n",
       "      <td>pos</td>\n",
       "      <td>Overall, a well done movie. There were the par...</td>\n",
       "    </tr>\n",
       "    <tr>\n",
       "      <th>997</th>\n",
       "      <td>194_7.txt</td>\n",
       "      <td>pos</td>\n",
       "      <td>It's not difficult, after watching this film, ...</td>\n",
       "    </tr>\n",
       "    <tr>\n",
       "      <th>998</th>\n",
       "      <td>70_8.txt</td>\n",
       "      <td>pos</td>\n",
       "      <td>This movie is certainly well-constructed, begi...</td>\n",
       "    </tr>\n",
       "    <tr>\n",
       "      <th>999</th>\n",
       "      <td>437_9.txt</td>\n",
       "      <td>pos</td>\n",
       "      <td>Jean Renoir's homage to the Paris of the late ...</td>\n",
       "    </tr>\n",
       "  </tbody>\n",
       "</table>\n",
       "<p>1000 rows × 3 columns</p>\n",
       "</div>"
      ],
      "text/plain": [
       "       filename kind                                               text\n",
       "0     472_4.txt  neg  Man with the Screaming Brain is a story of gre...\n",
       "1     492_1.txt  neg  Well........how and where do I start to descri...\n",
       "2     218_3.txt  neg  Unbelievably disappointed. The pace was slow. ...\n",
       "3     307_1.txt  neg  I checked this out at the Vancouver Internatio...\n",
       "4     342_1.txt  neg  I was excited about this movie after reading o...\n",
       "..          ...  ...                                                ...\n",
       "995  480_10.txt  pos  If you're tired by the same repetitive, uninte...\n",
       "996   122_8.txt  pos  Overall, a well done movie. There were the par...\n",
       "997   194_7.txt  pos  It's not difficult, after watching this film, ...\n",
       "998    70_8.txt  pos  This movie is certainly well-constructed, begi...\n",
       "999   437_9.txt  pos  Jean Renoir's homage to the Paris of the late ...\n",
       "\n",
       "[1000 rows x 3 columns]"
      ]
     },
     "execution_count": 12,
     "metadata": {},
     "output_type": "execute_result"
    }
   ],
   "source": [
    "dataset"
   ]
  },
  {
   "cell_type": "code",
   "execution_count": 13,
   "metadata": {},
   "outputs": [],
   "source": [
    "X = list(dataset.text)\n",
    "X = [remove_stop_words_and_stem(word_tokenize(x)) for x in X]\n",
    "Y_test = dataset.kind.to_numpy()\n",
    "X_test= vectorizer.transform(X)"
   ]
  },
  {
   "cell_type": "code",
   "execution_count": 14,
   "metadata": {},
   "outputs": [
    {
     "name": "stdout",
     "output_type": "stream",
     "text": [
      "0.808\n"
     ]
    }
   ],
   "source": [
    "print(multinomial_nb.score(X_test,Y_test))"
   ]
  },
  {
   "cell_type": "code",
   "execution_count": 15,
   "metadata": {},
   "outputs": [
    {
     "name": "stdout",
     "output_type": "stream",
     "text": [
      "3.61 s ± 23.2 ms per loop (mean ± std. dev. of 7 runs, 1 loop each)\n"
     ]
    }
   ],
   "source": [
    "%%timeit\n",
    "for x in list(dataset['text'])[:1000] :\n",
    "    predict_sentiment_NB(x)"
   ]
  },
  {
   "cell_type": "code",
   "execution_count": 16,
   "metadata": {},
   "outputs": [
    {
     "data": {
      "text/plain": [
       "array([[425,  75],\n",
       "       [117, 383]])"
      ]
     },
     "execution_count": 16,
     "metadata": {},
     "output_type": "execute_result"
    }
   ],
   "source": [
    "predictions = multinomial_nb.predict(X_test)\n",
    "confusion_matrix(Y_test, predictions)"
   ]
  },
  {
   "cell_type": "code",
   "execution_count": 65,
   "metadata": {},
   "outputs": [
    {
     "data": {
      "text/plain": [
       "<sklearn.metrics._plot.roc_curve.RocCurveDisplay at 0x136438ca0>"
      ]
     },
     "execution_count": 65,
     "metadata": {},
     "output_type": "execute_result"
    },
    {
     "data": {
      "image/png": "[encoded data removed]",
      "text/plain": [
       "<Figure size 432x288 with 1 Axes>"
      ]
     },
     "metadata": {
      "needs_background": "light"
     },
     "output_type": "display_data"
    }
   ],
   "source": [
    "plot_roc_curve(multinomial_nb, X_test, Y_test)"
   ]
  },
  {
   "cell_type": "code",
   "execution_count": 84,
   "metadata": {},
   "outputs": [
    {
     "name": "stdout",
     "output_type": "stream",
     "text": [
      "Result for a negative: neg\n",
      "Result for a positive: pos\n"
     ]
    }
   ],
   "source": [
    "print('Result for a negative:', predict_sentiment_NB(\"This is a bad movie. The worst I even seen.\"))\n",
    "print('Result for a positive:', predict_sentiment_NB(\"Best movie ever. Wonderful. Love it.\"))"
   ]
  },
  {
   "cell_type": "code",
   "execution_count": null,
   "metadata": {},
   "outputs": [],
   "source": []
  },
  {
   "cell_type": "code",
   "execution_count": 17,
   "metadata": {},
   "outputs": [],
   "source": [
    "from sklearn.linear_model import LogisticRegression"
   ]
  },
  {
   "cell_type": "code",
   "execution_count": 18,
   "metadata": {},
   "outputs": [
    {
     "data": {
      "text/plain": [
       "LogisticRegression()"
      ]
     },
     "execution_count": 18,
     "metadata": {},
     "output_type": "execute_result"
    }
   ],
   "source": [
    "logreg = LogisticRegression()\n",
    "logreg.fit(X_train, Y_train)"
   ]
  },
  {
   "cell_type": "code",
   "execution_count": 19,
   "metadata": {},
   "outputs": [
    {
     "name": "stdout",
     "output_type": "stream",
     "text": [
      "0.9735\n"
     ]
    }
   ],
   "source": [
    "print(logreg.score(X_train, Y_train))"
   ]
  },
  {
   "cell_type": "code",
   "execution_count": 20,
   "metadata": {},
   "outputs": [
    {
     "name": "stdout",
     "output_type": "stream",
     "text": [
      "0.829\n"
     ]
    }
   ],
   "source": [
    "print(logreg.score(X_test, Y_test))"
   ]
  },
  {
   "cell_type": "code",
   "execution_count": 66,
   "metadata": {},
   "outputs": [
    {
     "data": {
      "text/plain": [
       "<sklearn.metrics._plot.roc_curve.RocCurveDisplay at 0x12de6d730>"
      ]
     },
     "execution_count": 66,
     "metadata": {},
     "output_type": "execute_result"
    },
    {
     "data": {
      "image/png": "[encoded data removed]",
      "text/plain": [
       "<Figure size 432x288 with 1 Axes>"
      ]
     },
     "metadata": {
      "needs_background": "light"
     },
     "output_type": "display_data"
    }
   ],
   "source": [
    "plot_roc_curve(logreg, X_test, Y_test)"
   ]
  },
  {
   "cell_type": "code",
   "execution_count": 68,
   "metadata": {},
   "outputs": [
    {
     "data": {
      "text/plain": [
       "Text(0.5, 0.98, 'ROC curve comparison')"
      ]
     },
     "execution_count": 68,
     "metadata": {},
     "output_type": "execute_result"
    },
    {
     "data": {
      "image/png": "[encoded data removed]",
      "text/plain": [
       "<Figure size 432x288 with 1 Axes>"
      ]
     },
     "metadata": {
      "needs_background": "light"
     },
     "output_type": "display_data"
    }
   ],
   "source": [
    "fig = plot_roc_curve(multinomial_nb, X_test, Y_test)\n",
    "fig = plot_roc_curve(logreg,X_test, Y_test, ax = fig.ax_)\n",
    "fig.figure_.suptitle(\"ROC curve comparison\")"
   ]
  },
  {
   "cell_type": "code",
   "execution_count": 21,
   "metadata": {},
   "outputs": [],
   "source": [
    "def predict_sentiment(text):\n",
    "    tokens = word_tokenize(text)\n",
    "    processed = remove_stop_words_and_stem(tokens)\n",
    "    vectorized_data = vectorizer.transform([processed])\n",
    "    return logreg.predict(vectorized_data)[0]"
   ]
  },
  {
   "cell_type": "code",
   "execution_count": 22,
   "metadata": {},
   "outputs": [
    {
     "name": "stdout",
     "output_type": "stream",
     "text": [
      "Result for a negative: neg\n",
      "Result for a positive: pos\n"
     ]
    }
   ],
   "source": [
    "print('Result for a negative:', predict_sentiment(\"This is a bad movie. The worst I even seen.\"))\n",
    "print('Result for a positive:', predict_sentiment(\"Best movie ever. Wonderful. Love it.\"))"
   ]
  },
  {
   "cell_type": "code",
   "execution_count": 23,
   "metadata": {},
   "outputs": [
    {
     "name": "stdout",
     "output_type": "stream",
     "text": [
      "pos\n"
     ]
    }
   ],
   "source": [
    "print(predict_sentiment(\"Such a great movie\"))"
   ]
  },
  {
   "cell_type": "code",
   "execution_count": 24,
   "metadata": {},
   "outputs": [
    {
     "name": "stdout",
     "output_type": "stream",
     "text": [
      "neg\n"
     ]
    }
   ],
   "source": [
    "print(predict_sentiment(\"Such an awful movie\"))"
   ]
  },
  {
   "cell_type": "code",
   "execution_count": 25,
   "metadata": {},
   "outputs": [
    {
     "name": "stdout",
     "output_type": "stream",
     "text": [
      "3.51 s ± 122 ms per loop (mean ± std. dev. of 7 runs, 1 loop each)\n"
     ]
    }
   ],
   "source": [
    "%%timeit\n",
    "for x in list(dataset['text'])[:1000] :\n",
    "    predict_sentiment(x)"
   ]
  },
  {
   "cell_type": "code",
   "execution_count": 26,
   "metadata": {},
   "outputs": [
    {
     "data": {
      "text/plain": [
       "array([[417,  83],\n",
       "       [ 88, 412]])"
      ]
     },
     "execution_count": 26,
     "metadata": {},
     "output_type": "execute_result"
    }
   ],
   "source": [
    "predictions = logreg.predict(X_test)\n",
    "confusion_matrix(Y_test, predictions)"
   ]
  },
  {
   "cell_type": "code",
   "execution_count": 29,
   "metadata": {},
   "outputs": [
    {
     "name": "stdout",
     "output_type": "stream",
     "text": [
      "Import: 8.702278137207031e-05\n"
     ]
    }
   ],
   "source": [
    "import time\n",
    "start = time.time()\n",
    "import sentiment_predict as student\n",
    "medium = time.time()\n",
    "print(\"Import:\", medium - start)"
   ]
  },
  {
   "cell_type": "code",
   "execution_count": null,
   "metadata": {},
   "outputs": [],
   "source": []
  }
 ],
 "metadata": {
  "kernelspec": {
   "display_name": "py_38_env",
   "language": "python",
   "name": "py_38_env"
  },
  "language_info": {
   "codemirror_mode": {
    "name": "ipython",
    "version": 3
   },
   "file_extension": ".py",
   "mimetype": "text/x-python",
   "name": "python",
   "nbconvert_exporter": "python",
   "pygments_lexer": "ipython3",
   "version": "3.8.2"
  },
  "varInspector": {
   "cols": {
    "lenName": 16,
    "lenType": 16,
    "lenVar": 40
   },
   "kernels_config": {
    "python": {
     "delete_cmd_postfix": "",
     "delete_cmd_prefix": "del ",
     "library": "var_list.py",
     "varRefreshCmd": "print(var_dic_list())"
    },
    "r": {
     "delete_cmd_postfix": ") ",
     "delete_cmd_prefix": "rm(",
     "library": "var_list.r",
     "varRefreshCmd": "cat(var_dic_list()) "
    }
   },
   "types_to_exclude": [
    "module",
    "function",
    "builtin_function_or_method",
    "instance",
    "_Feature"
   ],
   "window_display": false
  }
 },
 "nbformat": 4,
 "nbformat_minor": 4
}
